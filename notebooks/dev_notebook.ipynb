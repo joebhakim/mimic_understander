{
 "cells": [
  {
   "cell_type": "code",
   "execution_count": 1,
   "id": "institutional-arthritis",
   "metadata": {},
   "outputs": [],
   "source": [
    "import numpy as np\n",
    "import pandas as pd"
   ]
  },
  {
   "cell_type": "code",
   "execution_count": 2,
   "metadata": {},
   "outputs": [],
   "source": [
    "id_vars = ['subject_id','hadm_id','stay_id']"
   ]
  },
  {
   "cell_type": "code",
   "execution_count": 3,
   "metadata": {},
   "outputs": [],
   "source": [
    "\n",
    "def read_local_data(data_dir):\n",
    "    static_vars = pd.read_csv(data_dir + 'static_vars.csv')\n",
    "    dynamic_vars = pd.read_csv(data_dir + 'dynamic_vars.csv')\n",
    "    outcome_vars = pd.read_csv(data_dir + 'outcome_vars.csv')\n",
    "    input_vars = pd.read_csv(data_dir + 'input_vars.csv')\n",
    "\n",
    "    return static_vars, dynamic_vars, outcome_vars, input_vars\n"
   ]
  },
  {
   "cell_type": "code",
   "execution_count": 4,
   "metadata": {},
   "outputs": [
    {
     "output_type": "stream",
     "name": "stdout",
     "text": [
      "   subject_id   hadm_id   stay_id               intime              outtime  \\\n0    13505226  21820338  37831702  2142-09-15 00:31:52  2142-09-16 17:49:14   \n1    14025587  23594805  37282379  2136-12-24 14:14:00  2136-12-26 19:10:12   \n2    14156778  21837109  31333611  2164-06-03 09:08:16  2164-06-04 15:28:18   \n3    14873487  23630661  32995267  2129-02-01 22:03:45  2129-02-05 23:44:25   \n4    15776719  20137532  37269622  2143-04-13 01:16:00  2143-04-17 11:42:38   \n\n             charttime  itemid                         label value valueuom  \n0  2142-09-16 10:00:00  224329             PCA lockout (min)     6      min  \n1  2136-12-24 17:00:00  228099  18 Gauge placed in the field     0      NaN  \n2  2164-06-03 19:23:00  220645                Sodium (serum)   137    mEq/L  \n3  2129-02-02 05:05:00  220644                           ALT    19     IU/L  \n4  2143-04-14 20:00:00  227367   18 Gauge Dressing Occlusive     1      NaN  \n"
     ]
    }
   ],
   "source": [
    "static_vars, dynamic_vars, outcome_vars, input_vars =\\\n",
    "        read_local_data('/home/joe/mimic_understander/data/external/')\n",
    "\n",
    "print(dynamic_vars.head())\n",
    "    "
   ]
  },
  {
   "cell_type": "code",
   "execution_count": 17,
   "metadata": {},
   "outputs": [
    {
     "output_type": "execute_result",
     "data": {
      "text/plain": [
       "   subject_id   hadm_id   stay_id  mort_icu       los  hospital_expire_flag  \\\n",
       "0    10122297  25825366  36349608         0  1.979468                     0   \n",
       "1    17168310  21560534  33376903         0  1.026331                     0   \n",
       "2    15703353  29272306  35111434         0  9.013519                     0   \n",
       "3    10308232  21297383  30153687         0  4.980833                     0   \n",
       "4    13307171  21128752  38043905         0  0.737431                     0   \n",
       "\n",
       "   HospMort30day  \n",
       "0              0  \n",
       "1              0  \n",
       "2              0  \n",
       "3              0  \n",
       "4              0  "
      ],
      "text/html": "<div>\n<style scoped>\n    .dataframe tbody tr th:only-of-type {\n        vertical-align: middle;\n    }\n\n    .dataframe tbody tr th {\n        vertical-align: top;\n    }\n\n    .dataframe thead th {\n        text-align: right;\n    }\n</style>\n<table border=\"1\" class=\"dataframe\">\n  <thead>\n    <tr style=\"text-align: right;\">\n      <th></th>\n      <th>subject_id</th>\n      <th>hadm_id</th>\n      <th>stay_id</th>\n      <th>mort_icu</th>\n      <th>los</th>\n      <th>hospital_expire_flag</th>\n      <th>HospMort30day</th>\n    </tr>\n  </thead>\n  <tbody>\n    <tr>\n      <th>0</th>\n      <td>10122297</td>\n      <td>25825366</td>\n      <td>36349608</td>\n      <td>0</td>\n      <td>1.979468</td>\n      <td>0</td>\n      <td>0</td>\n    </tr>\n    <tr>\n      <th>1</th>\n      <td>17168310</td>\n      <td>21560534</td>\n      <td>33376903</td>\n      <td>0</td>\n      <td>1.026331</td>\n      <td>0</td>\n      <td>0</td>\n    </tr>\n    <tr>\n      <th>2</th>\n      <td>15703353</td>\n      <td>29272306</td>\n      <td>35111434</td>\n      <td>0</td>\n      <td>9.013519</td>\n      <td>0</td>\n      <td>0</td>\n    </tr>\n    <tr>\n      <th>3</th>\n      <td>10308232</td>\n      <td>21297383</td>\n      <td>30153687</td>\n      <td>0</td>\n      <td>4.980833</td>\n      <td>0</td>\n      <td>0</td>\n    </tr>\n    <tr>\n      <th>4</th>\n      <td>13307171</td>\n      <td>21128752</td>\n      <td>38043905</td>\n      <td>0</td>\n      <td>0.737431</td>\n      <td>0</td>\n      <td>0</td>\n    </tr>\n  </tbody>\n</table>\n</div>"
     },
     "metadata": {},
     "execution_count": 17
    }
   ],
   "source": [
    "outcome_vars.head()"
   ]
  },
  {
   "cell_type": "code",
   "execution_count": 6,
   "metadata": {},
   "outputs": [],
   "source": [
    "def preprocess_static_vars(static_vars_df: pd.DataFrame) -> pd.DataFrame:\n",
    "    static_vars_clean = static_vars_df.copy()\n",
    "\n",
    "    static_vars_clean = pd.get_dummies(static_vars_clean)\n",
    "\n",
    "    return static_vars_clean"
   ]
  },
  {
   "cell_type": "code",
   "execution_count": 15,
   "metadata": {},
   "outputs": [
    {
     "output_type": "execute_result",
     "data": {
      "text/plain": [
       "       subject_id   hadm_id   stay_id  mort_icu       los  \\\n",
       "0        10122297  25825366  36349608         0  1.979468   \n",
       "1        17168310  21560534  33376903         0  1.026331   \n",
       "2        15703353  29272306  35111434         0  9.013519   \n",
       "3        10308232  21297383  30153687         0  4.980833   \n",
       "4        13307171  21128752  38043905         0  0.737431   \n",
       "...           ...       ...       ...       ...       ...   \n",
       "55121    10496572  29908222  35485159         0  0.973993   \n",
       "55122    19739872  23023377  35695410         0  4.547465   \n",
       "55123    18043783  27439603  35896715         0  0.611481   \n",
       "55124    11184695  24888536  38194069         0  1.443877   \n",
       "55125    12929740  24932959  31586184         0  1.719421   \n",
       "\n",
       "       hospital_expire_flag  HospMort30day  \n",
       "0                         0              0  \n",
       "1                         0              0  \n",
       "2                         0              0  \n",
       "3                         0              0  \n",
       "4                         0              0  \n",
       "...                     ...            ...  \n",
       "55121                     0              0  \n",
       "55122                     0              0  \n",
       "55123                     0              0  \n",
       "55124                     0              0  \n",
       "55125                     0              0  \n",
       "\n",
       "[55126 rows x 7 columns]"
      ],
      "text/html": "<div>\n<style scoped>\n    .dataframe tbody tr th:only-of-type {\n        vertical-align: middle;\n    }\n\n    .dataframe tbody tr th {\n        vertical-align: top;\n    }\n\n    .dataframe thead th {\n        text-align: right;\n    }\n</style>\n<table border=\"1\" class=\"dataframe\">\n  <thead>\n    <tr style=\"text-align: right;\">\n      <th></th>\n      <th>subject_id</th>\n      <th>hadm_id</th>\n      <th>stay_id</th>\n      <th>mort_icu</th>\n      <th>los</th>\n      <th>hospital_expire_flag</th>\n      <th>HospMort30day</th>\n    </tr>\n  </thead>\n  <tbody>\n    <tr>\n      <th>0</th>\n      <td>10122297</td>\n      <td>25825366</td>\n      <td>36349608</td>\n      <td>0</td>\n      <td>1.979468</td>\n      <td>0</td>\n      <td>0</td>\n    </tr>\n    <tr>\n      <th>1</th>\n      <td>17168310</td>\n      <td>21560534</td>\n      <td>33376903</td>\n      <td>0</td>\n      <td>1.026331</td>\n      <td>0</td>\n      <td>0</td>\n    </tr>\n    <tr>\n      <th>2</th>\n      <td>15703353</td>\n      <td>29272306</td>\n      <td>35111434</td>\n      <td>0</td>\n      <td>9.013519</td>\n      <td>0</td>\n      <td>0</td>\n    </tr>\n    <tr>\n      <th>3</th>\n      <td>10308232</td>\n      <td>21297383</td>\n      <td>30153687</td>\n      <td>0</td>\n      <td>4.980833</td>\n      <td>0</td>\n      <td>0</td>\n    </tr>\n    <tr>\n      <th>4</th>\n      <td>13307171</td>\n      <td>21128752</td>\n      <td>38043905</td>\n      <td>0</td>\n      <td>0.737431</td>\n      <td>0</td>\n      <td>0</td>\n    </tr>\n    <tr>\n      <th>...</th>\n      <td>...</td>\n      <td>...</td>\n      <td>...</td>\n      <td>...</td>\n      <td>...</td>\n      <td>...</td>\n      <td>...</td>\n    </tr>\n    <tr>\n      <th>55121</th>\n      <td>10496572</td>\n      <td>29908222</td>\n      <td>35485159</td>\n      <td>0</td>\n      <td>0.973993</td>\n      <td>0</td>\n      <td>0</td>\n    </tr>\n    <tr>\n      <th>55122</th>\n      <td>19739872</td>\n      <td>23023377</td>\n      <td>35695410</td>\n      <td>0</td>\n      <td>4.547465</td>\n      <td>0</td>\n      <td>0</td>\n    </tr>\n    <tr>\n      <th>55123</th>\n      <td>18043783</td>\n      <td>27439603</td>\n      <td>35896715</td>\n      <td>0</td>\n      <td>0.611481</td>\n      <td>0</td>\n      <td>0</td>\n    </tr>\n    <tr>\n      <th>55124</th>\n      <td>11184695</td>\n      <td>24888536</td>\n      <td>38194069</td>\n      <td>0</td>\n      <td>1.443877</td>\n      <td>0</td>\n      <td>0</td>\n    </tr>\n    <tr>\n      <th>55125</th>\n      <td>12929740</td>\n      <td>24932959</td>\n      <td>31586184</td>\n      <td>0</td>\n      <td>1.719421</td>\n      <td>0</td>\n      <td>0</td>\n    </tr>\n  </tbody>\n</table>\n<p>55126 rows × 7 columns</p>\n</div>"
     },
     "metadata": {},
     "execution_count": 15
    }
   ],
   "source": [
    "outcome_vars"
   ]
  },
  {
   "cell_type": "code",
   "execution_count": 12,
   "metadata": {},
   "outputs": [],
   "source": [
    "static_vars_clean = pd.get_dummies(static_vars)"
   ]
  },
  {
   "cell_type": "code",
   "execution_count": 14,
   "metadata": {},
   "outputs": [
    {
     "output_type": "execute_result",
     "data": {
      "text/plain": [
       "subject_id                                 False\n",
       "hadm_id                                    False\n",
       "stay_id                                    False\n",
       "age                                        False\n",
       "ethnicity_AMERICAN INDIAN/ALASKA NATIVE    False\n",
       "ethnicity_ASIAN                            False\n",
       "ethnicity_BLACK/AFRICAN AMERICAN           False\n",
       "ethnicity_HISPANIC/LATINO                  False\n",
       "ethnicity_OTHER                            False\n",
       "ethnicity_UNABLE TO OBTAIN                 False\n",
       "ethnicity_UNKNOWN                          False\n",
       "ethnicity_WHITE                            False\n",
       "dtype: bool"
      ]
     },
     "metadata": {},
     "execution_count": 14
    }
   ],
   "source": [
    "pd.isna(static_vars_clean).any()"
   ]
  },
  {
   "cell_type": "code",
   "execution_count": 6,
   "metadata": {},
   "outputs": [
    {
     "output_type": "execute_result",
     "data": {
      "text/plain": [
       "   subject_id   hadm_id   stay_id  hospital_expire_flag  HospMort30day\n",
       "0    19586042  23279761  32441505                     0              0\n",
       "1    18320677  27591411  38358287                     0              0\n",
       "2    12441061  25709725  34566245                     0              0\n",
       "3    14825995  26548609  32257177                     0              0\n",
       "4    16723797  28913496  31146604                     0              0"
      ],
      "text/html": "<div>\n<style scoped>\n    .dataframe tbody tr th:only-of-type {\n        vertical-align: middle;\n    }\n\n    .dataframe tbody tr th {\n        vertical-align: top;\n    }\n\n    .dataframe thead th {\n        text-align: right;\n    }\n</style>\n<table border=\"1\" class=\"dataframe\">\n  <thead>\n    <tr style=\"text-align: right;\">\n      <th></th>\n      <th>subject_id</th>\n      <th>hadm_id</th>\n      <th>stay_id</th>\n      <th>hospital_expire_flag</th>\n      <th>HospMort30day</th>\n    </tr>\n  </thead>\n  <tbody>\n    <tr>\n      <th>0</th>\n      <td>19586042</td>\n      <td>23279761</td>\n      <td>32441505</td>\n      <td>0</td>\n      <td>0</td>\n    </tr>\n    <tr>\n      <th>1</th>\n      <td>18320677</td>\n      <td>27591411</td>\n      <td>38358287</td>\n      <td>0</td>\n      <td>0</td>\n    </tr>\n    <tr>\n      <th>2</th>\n      <td>12441061</td>\n      <td>25709725</td>\n      <td>34566245</td>\n      <td>0</td>\n      <td>0</td>\n    </tr>\n    <tr>\n      <th>3</th>\n      <td>14825995</td>\n      <td>26548609</td>\n      <td>32257177</td>\n      <td>0</td>\n      <td>0</td>\n    </tr>\n    <tr>\n      <th>4</th>\n      <td>16723797</td>\n      <td>28913496</td>\n      <td>31146604</td>\n      <td>0</td>\n      <td>0</td>\n    </tr>\n  </tbody>\n</table>\n</div>"
     },
     "metadata": {},
     "execution_count": 6
    }
   ],
   "source": [
    "outcome_vars.head()"
   ]
  },
  {
   "cell_type": "code",
   "execution_count": 16,
   "metadata": {},
   "outputs": [],
   "source": [
    "\n",
    "def get_regular_timeseries(timestamp_timeseries: pd.DataFrame, ) -> pd.DataFrame:\n",
    "    \"\"\"converts a timeseries with each variable recorded as value - datetime\n",
    "    into hourly (or other interval)\"\"\"\n",
    "\n",
    "    temp  = dynamic_vars.head(1000000)\n",
    "    temp['time_in'] = pd.to_datetime(temp['charttime']) - pd.to_datetime(temp['intime'])\n",
    "    temp = temp.drop(['intime','outtime','charttime','itemid','valueuom'], axis=1) #TODO: check if valueuom can be dropped\n",
    "    temp = temp.set_index(['subject_id','hadm_id','stay_id','time_in'])\n",
    "\n",
    "    top_k_feats = list(dynamic_vars['label'].value_counts()[:5].index)\n",
    "\n",
    "    temp = temp.loc[temp['label'].isin(top_k_feats),:]\n",
    "    \n",
    "\n",
    "\n",
    "    b = pd.pivot(temp, columns=['label']).head(1000)\n",
    "\n",
    "    #b = pd.pivot(temp, columns=['label', 'subject_id','hadm_id','stay_id']).head(10)\n",
    "    #b = b.reset_index()\n",
    "    b.columns = b.columns.get_level_values(1)\n",
    "    b = b.reset_index()#.set_index('time_in')\n",
    "    b[top_k_feats] = b[top_k_feats].apply(pd.to_numeric)\n",
    "    #b[id_vars] = b[id_vars].apply(pd.to_)\n",
    "\n",
    "    timestamp_timeseries = b.groupby(id_vars).resample('H', on='time_in').mean().drop(id_vars, axis=1).reset_index()\n",
    "\n",
    "    return timestamp_timeseries\n",
    "\n"
   ]
  },
  {
   "cell_type": "code",
   "execution_count": 17,
   "metadata": {},
   "outputs": [],
   "source": [
    "dynamic_regular = get_regular_timeseries(dynamic_vars)"
   ]
  },
  {
   "cell_type": "code",
   "execution_count": 24,
   "metadata": {},
   "outputs": [
    {
     "output_type": "execute_result",
     "data": {
      "text/plain": [
       "label  subject_id   hadm_id   stay_id         time_in  Heart Rate  \\\n",
       "0        10001725  25563031  37542711 0 days 15:07:38         NaN   \n",
       "1        10001725  25563031  37542711 0 days 16:07:38         NaN   \n",
       "2        10001725  25563031  37542711 0 days 17:07:38         NaN   \n",
       "3        10001725  25563031  37542711 0 days 18:07:38         NaN   \n",
       "4        10001725  25563031  37542711 0 days 19:07:38         NaN   \n",
       "...           ...       ...       ...             ...         ...   \n",
       "9951     10361930  22828898  32607530 3 days 10:18:01         NaN   \n",
       "9952     10361930  22828898  32607530 3 days 11:18:01         NaN   \n",
       "9953     10361930  22828898  32607530 3 days 12:18:01         NaN   \n",
       "9954     10362330  25416268  33355839 0 days 08:29:12         NaN   \n",
       "9955     10362982  29984291  36155587 0 days 02:14:21        94.0   \n",
       "\n",
       "label  Non Invasive Blood Pressure diastolic  \\\n",
       "0                                        NaN   \n",
       "1                                        NaN   \n",
       "2                                        NaN   \n",
       "3                                        NaN   \n",
       "4                                        NaN   \n",
       "...                                      ...   \n",
       "9951                                     NaN   \n",
       "9952                                     NaN   \n",
       "9953                                    55.0   \n",
       "9954                                    54.0   \n",
       "9955                                     NaN   \n",
       "\n",
       "label  Non Invasive Blood Pressure mean  O2 saturation pulseoxymetry  \\\n",
       "0                                   NaN                        100.0   \n",
       "1                                   NaN                          NaN   \n",
       "2                                   NaN                          NaN   \n",
       "3                                   NaN                          NaN   \n",
       "4                                   NaN                          NaN   \n",
       "...                                 ...                          ...   \n",
       "9951                                NaN                          NaN   \n",
       "9952                                NaN                          NaN   \n",
       "9953                                NaN                          NaN   \n",
       "9954                                NaN                          NaN   \n",
       "9955                                NaN                          NaN   \n",
       "\n",
       "label  Respiratory Rate  \n",
       "0                   NaN  \n",
       "1                   NaN  \n",
       "2                   NaN  \n",
       "3                   NaN  \n",
       "4                   NaN  \n",
       "...                 ...  \n",
       "9951                NaN  \n",
       "9952                NaN  \n",
       "9953                NaN  \n",
       "9954                NaN  \n",
       "9955                NaN  \n",
       "\n",
       "[9956 rows x 9 columns]"
      ],
      "text/html": "<div>\n<style scoped>\n    .dataframe tbody tr th:only-of-type {\n        vertical-align: middle;\n    }\n\n    .dataframe tbody tr th {\n        vertical-align: top;\n    }\n\n    .dataframe thead th {\n        text-align: right;\n    }\n</style>\n<table border=\"1\" class=\"dataframe\">\n  <thead>\n    <tr style=\"text-align: right;\">\n      <th>label</th>\n      <th>subject_id</th>\n      <th>hadm_id</th>\n      <th>stay_id</th>\n      <th>time_in</th>\n      <th>Heart Rate</th>\n      <th>Non Invasive Blood Pressure diastolic</th>\n      <th>Non Invasive Blood Pressure mean</th>\n      <th>O2 saturation pulseoxymetry</th>\n      <th>Respiratory Rate</th>\n    </tr>\n  </thead>\n  <tbody>\n    <tr>\n      <th>0</th>\n      <td>10001725</td>\n      <td>25563031</td>\n      <td>37542711</td>\n      <td>0 days 15:07:38</td>\n      <td>NaN</td>\n      <td>NaN</td>\n      <td>NaN</td>\n      <td>100.0</td>\n      <td>NaN</td>\n    </tr>\n    <tr>\n      <th>1</th>\n      <td>10001725</td>\n      <td>25563031</td>\n      <td>37542711</td>\n      <td>0 days 16:07:38</td>\n      <td>NaN</td>\n      <td>NaN</td>\n      <td>NaN</td>\n      <td>NaN</td>\n      <td>NaN</td>\n    </tr>\n    <tr>\n      <th>2</th>\n      <td>10001725</td>\n      <td>25563031</td>\n      <td>37542711</td>\n      <td>0 days 17:07:38</td>\n      <td>NaN</td>\n      <td>NaN</td>\n      <td>NaN</td>\n      <td>NaN</td>\n      <td>NaN</td>\n    </tr>\n    <tr>\n      <th>3</th>\n      <td>10001725</td>\n      <td>25563031</td>\n      <td>37542711</td>\n      <td>0 days 18:07:38</td>\n      <td>NaN</td>\n      <td>NaN</td>\n      <td>NaN</td>\n      <td>NaN</td>\n      <td>NaN</td>\n    </tr>\n    <tr>\n      <th>4</th>\n      <td>10001725</td>\n      <td>25563031</td>\n      <td>37542711</td>\n      <td>0 days 19:07:38</td>\n      <td>NaN</td>\n      <td>NaN</td>\n      <td>NaN</td>\n      <td>NaN</td>\n      <td>NaN</td>\n    </tr>\n    <tr>\n      <th>...</th>\n      <td>...</td>\n      <td>...</td>\n      <td>...</td>\n      <td>...</td>\n      <td>...</td>\n      <td>...</td>\n      <td>...</td>\n      <td>...</td>\n      <td>...</td>\n    </tr>\n    <tr>\n      <th>9951</th>\n      <td>10361930</td>\n      <td>22828898</td>\n      <td>32607530</td>\n      <td>3 days 10:18:01</td>\n      <td>NaN</td>\n      <td>NaN</td>\n      <td>NaN</td>\n      <td>NaN</td>\n      <td>NaN</td>\n    </tr>\n    <tr>\n      <th>9952</th>\n      <td>10361930</td>\n      <td>22828898</td>\n      <td>32607530</td>\n      <td>3 days 11:18:01</td>\n      <td>NaN</td>\n      <td>NaN</td>\n      <td>NaN</td>\n      <td>NaN</td>\n      <td>NaN</td>\n    </tr>\n    <tr>\n      <th>9953</th>\n      <td>10361930</td>\n      <td>22828898</td>\n      <td>32607530</td>\n      <td>3 days 12:18:01</td>\n      <td>NaN</td>\n      <td>55.0</td>\n      <td>NaN</td>\n      <td>NaN</td>\n      <td>NaN</td>\n    </tr>\n    <tr>\n      <th>9954</th>\n      <td>10362330</td>\n      <td>25416268</td>\n      <td>33355839</td>\n      <td>0 days 08:29:12</td>\n      <td>NaN</td>\n      <td>54.0</td>\n      <td>NaN</td>\n      <td>NaN</td>\n      <td>NaN</td>\n    </tr>\n    <tr>\n      <th>9955</th>\n      <td>10362982</td>\n      <td>29984291</td>\n      <td>36155587</td>\n      <td>0 days 02:14:21</td>\n      <td>94.0</td>\n      <td>NaN</td>\n      <td>NaN</td>\n      <td>NaN</td>\n      <td>NaN</td>\n    </tr>\n  </tbody>\n</table>\n<p>9956 rows × 9 columns</p>\n</div>"
     },
     "metadata": {},
     "execution_count": 24
    }
   ],
   "source": [
    "dynamic_regular"
   ]
  },
  {
   "cell_type": "code",
   "execution_count": 36,
   "metadata": {},
   "outputs": [],
   "source": [
    "top_k_feats = list(dynamic_vars['label'].value_counts()[:5].index)"
   ]
  },
  {
   "cell_type": "code",
   "execution_count": 51,
   "metadata": {},
   "outputs": [],
   "source": [
    "\n",
    "# first, impute by forwards filling\n",
    "dynamic_regular_df = dynamic_regular\n",
    "dynamic_regular_df = dynamic_regular_df.set_index(id_vars)\n",
    "dynamic_regular_df = dynamic_regular_df.groupby(id_vars).ffill() \n",
    "\n",
    "#dynamic_regular_df[top_k_feats].fillna(dynamic_regular_df.groupby(id_vars).median()) personal level imputing, might information leak so dont use\n",
    "dynamic_regular_df[top_k_feats].fillna(dynamic_regular_df.median()) "
   ]
  },
  {
   "cell_type": "code",
   "execution_count": 56,
   "metadata": {},
   "outputs": [
    {
     "output_type": "execute_result",
     "data": {
      "text/plain": [
       "label                         Heart Rate  Respiratory Rate  \\\n",
       "subject_id hadm_id  stay_id                                  \n",
       "10001725   25563031 37542711        82.0              19.0   \n",
       "                    37542711        82.0              19.0   \n",
       "                    37542711        82.0              19.0   \n",
       "                    37542711        82.0              19.0   \n",
       "                    37542711        82.0              19.0   \n",
       "...                                  ...               ...   \n",
       "10361930   22828898 32607530        82.0              25.0   \n",
       "                    32607530        82.0              25.0   \n",
       "                    32607530        82.0              25.0   \n",
       "10362330   25416268 33355839        82.0              19.0   \n",
       "10362982   29984291 36155587        94.0              19.0   \n",
       "\n",
       "label                         O2 saturation pulseoxymetry  \\\n",
       "subject_id hadm_id  stay_id                                 \n",
       "10001725   25563031 37542711                        100.0   \n",
       "                    37542711                        100.0   \n",
       "                    37542711                        100.0   \n",
       "                    37542711                        100.0   \n",
       "                    37542711                        100.0   \n",
       "...                                                   ...   \n",
       "10361930   22828898 32607530                         98.0   \n",
       "                    32607530                         98.0   \n",
       "                    32607530                         98.0   \n",
       "10362330   25416268 33355839                         98.0   \n",
       "10362982   29984291 36155587                         98.0   \n",
       "\n",
       "label                         Non Invasive Blood Pressure mean  \\\n",
       "subject_id hadm_id  stay_id                                      \n",
       "10001725   25563031 37542711                              74.0   \n",
       "                    37542711                              74.0   \n",
       "                    37542711                              74.0   \n",
       "                    37542711                              74.0   \n",
       "                    37542711                              74.0   \n",
       "...                                                        ...   \n",
       "10361930   22828898 32607530                              74.0   \n",
       "                    32607530                              74.0   \n",
       "                    32607530                              74.0   \n",
       "10362330   25416268 33355839                              74.0   \n",
       "10362982   29984291 36155587                              74.0   \n",
       "\n",
       "label                         Non Invasive Blood Pressure diastolic  \n",
       "subject_id hadm_id  stay_id                                          \n",
       "10001725   25563031 37542711                                   61.0  \n",
       "                    37542711                                   61.0  \n",
       "                    37542711                                   61.0  \n",
       "                    37542711                                   61.0  \n",
       "                    37542711                                   61.0  \n",
       "...                                                             ...  \n",
       "10361930   22828898 32607530                                   61.0  \n",
       "                    32607530                                   61.0  \n",
       "                    32607530                                   55.0  \n",
       "10362330   25416268 33355839                                   54.0  \n",
       "10362982   29984291 36155587                                   61.0  \n",
       "\n",
       "[9956 rows x 5 columns]"
      ],
      "text/html": "<div>\n<style scoped>\n    .dataframe tbody tr th:only-of-type {\n        vertical-align: middle;\n    }\n\n    .dataframe tbody tr th {\n        vertical-align: top;\n    }\n\n    .dataframe thead th {\n        text-align: right;\n    }\n</style>\n<table border=\"1\" class=\"dataframe\">\n  <thead>\n    <tr style=\"text-align: right;\">\n      <th></th>\n      <th></th>\n      <th>label</th>\n      <th>Heart Rate</th>\n      <th>Respiratory Rate</th>\n      <th>O2 saturation pulseoxymetry</th>\n      <th>Non Invasive Blood Pressure mean</th>\n      <th>Non Invasive Blood Pressure diastolic</th>\n    </tr>\n    <tr>\n      <th>subject_id</th>\n      <th>hadm_id</th>\n      <th>stay_id</th>\n      <th></th>\n      <th></th>\n      <th></th>\n      <th></th>\n      <th></th>\n    </tr>\n  </thead>\n  <tbody>\n    <tr>\n      <th rowspan=\"5\" valign=\"top\">10001725</th>\n      <th rowspan=\"5\" valign=\"top\">25563031</th>\n      <th>37542711</th>\n      <td>82.0</td>\n      <td>19.0</td>\n      <td>100.0</td>\n      <td>74.0</td>\n      <td>61.0</td>\n    </tr>\n    <tr>\n      <th>37542711</th>\n      <td>82.0</td>\n      <td>19.0</td>\n      <td>100.0</td>\n      <td>74.0</td>\n      <td>61.0</td>\n    </tr>\n    <tr>\n      <th>37542711</th>\n      <td>82.0</td>\n      <td>19.0</td>\n      <td>100.0</td>\n      <td>74.0</td>\n      <td>61.0</td>\n    </tr>\n    <tr>\n      <th>37542711</th>\n      <td>82.0</td>\n      <td>19.0</td>\n      <td>100.0</td>\n      <td>74.0</td>\n      <td>61.0</td>\n    </tr>\n    <tr>\n      <th>37542711</th>\n      <td>82.0</td>\n      <td>19.0</td>\n      <td>100.0</td>\n      <td>74.0</td>\n      <td>61.0</td>\n    </tr>\n    <tr>\n      <th>...</th>\n      <th>...</th>\n      <th>...</th>\n      <td>...</td>\n      <td>...</td>\n      <td>...</td>\n      <td>...</td>\n      <td>...</td>\n    </tr>\n    <tr>\n      <th rowspan=\"3\" valign=\"top\">10361930</th>\n      <th rowspan=\"3\" valign=\"top\">22828898</th>\n      <th>32607530</th>\n      <td>82.0</td>\n      <td>25.0</td>\n      <td>98.0</td>\n      <td>74.0</td>\n      <td>61.0</td>\n    </tr>\n    <tr>\n      <th>32607530</th>\n      <td>82.0</td>\n      <td>25.0</td>\n      <td>98.0</td>\n      <td>74.0</td>\n      <td>61.0</td>\n    </tr>\n    <tr>\n      <th>32607530</th>\n      <td>82.0</td>\n      <td>25.0</td>\n      <td>98.0</td>\n      <td>74.0</td>\n      <td>55.0</td>\n    </tr>\n    <tr>\n      <th>10362330</th>\n      <th>25416268</th>\n      <th>33355839</th>\n      <td>82.0</td>\n      <td>19.0</td>\n      <td>98.0</td>\n      <td>74.0</td>\n      <td>54.0</td>\n    </tr>\n    <tr>\n      <th>10362982</th>\n      <th>29984291</th>\n      <th>36155587</th>\n      <td>94.0</td>\n      <td>19.0</td>\n      <td>98.0</td>\n      <td>74.0</td>\n      <td>61.0</td>\n    </tr>\n  </tbody>\n</table>\n<p>9956 rows × 5 columns</p>\n</div>"
     },
     "metadata": {},
     "execution_count": 56
    }
   ],
   "source": [
    "\n"
   ]
  },
  {
   "cell_type": "code",
   "execution_count": 46,
   "metadata": {},
   "outputs": [
    {
     "output_type": "execute_result",
     "data": {
      "text/plain": [
       "label                         Heart Rate  \\\n",
       "subject_id hadm_id  stay_id                \n",
       "10001725   25563031 37542711         NaN   \n",
       "10002155   23822395 34599502         NaN   \n",
       "10002428   20321825 37206936       100.0   \n",
       "           28662225 39157783         NaN   \n",
       "10003019   22774359 35012584        81.0   \n",
       "...                                  ...   \n",
       "10360766   27554699 34464986       110.0   \n",
       "10361825   27526421 30953288         NaN   \n",
       "10361930   22828898 32607530         NaN   \n",
       "10362330   25416268 33355839         NaN   \n",
       "10362982   29984291 36155587        94.0   \n",
       "\n",
       "label                         Non Invasive Blood Pressure diastolic  \\\n",
       "subject_id hadm_id  stay_id                                           \n",
       "10001725   25563031 37542711                                   58.0   \n",
       "10002155   23822395 34599502                                   54.0   \n",
       "10002428   20321825 37206936                                    NaN   \n",
       "           28662225 39157783                                    NaN   \n",
       "10003019   22774359 35012584                                    NaN   \n",
       "...                                                             ...   \n",
       "10360766   27554699 34464986                                    NaN   \n",
       "10361825   27526421 30953288                                    NaN   \n",
       "10361930   22828898 32607530                                   55.0   \n",
       "10362330   25416268 33355839                                   54.0   \n",
       "10362982   29984291 36155587                                    NaN   \n",
       "\n",
       "label                         Non Invasive Blood Pressure mean  \\\n",
       "subject_id hadm_id  stay_id                                      \n",
       "10001725   25563031 37542711                               NaN   \n",
       "10002155   23822395 34599502                               NaN   \n",
       "10002428   20321825 37206936                               NaN   \n",
       "           28662225 39157783                               NaN   \n",
       "10003019   22774359 35012584                               NaN   \n",
       "...                                                        ...   \n",
       "10360766   27554699 34464986                              87.0   \n",
       "10361825   27526421 30953288                              65.0   \n",
       "10361930   22828898 32607530                               NaN   \n",
       "10362330   25416268 33355839                               NaN   \n",
       "10362982   29984291 36155587                               NaN   \n",
       "\n",
       "label                         O2 saturation pulseoxymetry  Respiratory Rate  \n",
       "subject_id hadm_id  stay_id                                                  \n",
       "10001725   25563031 37542711                        100.0               NaN  \n",
       "10002155   23822395 34599502                         94.0               NaN  \n",
       "10002428   20321825 37206936                          NaN               NaN  \n",
       "           28662225 39157783                          NaN              27.0  \n",
       "10003019   22774359 35012584                          NaN               NaN  \n",
       "...                                                   ...               ...  \n",
       "10360766   27554699 34464986                          NaN               NaN  \n",
       "10361825   27526421 30953288                          NaN              35.0  \n",
       "10361930   22828898 32607530                          NaN              25.0  \n",
       "10362330   25416268 33355839                          NaN               NaN  \n",
       "10362982   29984291 36155587                          NaN               NaN  \n",
       "\n",
       "[617 rows x 5 columns]"
      ],
      "text/html": "<div>\n<style scoped>\n    .dataframe tbody tr th:only-of-type {\n        vertical-align: middle;\n    }\n\n    .dataframe tbody tr th {\n        vertical-align: top;\n    }\n\n    .dataframe thead th {\n        text-align: right;\n    }\n</style>\n<table border=\"1\" class=\"dataframe\">\n  <thead>\n    <tr style=\"text-align: right;\">\n      <th></th>\n      <th></th>\n      <th>label</th>\n      <th>Heart Rate</th>\n      <th>Non Invasive Blood Pressure diastolic</th>\n      <th>Non Invasive Blood Pressure mean</th>\n      <th>O2 saturation pulseoxymetry</th>\n      <th>Respiratory Rate</th>\n    </tr>\n    <tr>\n      <th>subject_id</th>\n      <th>hadm_id</th>\n      <th>stay_id</th>\n      <th></th>\n      <th></th>\n      <th></th>\n      <th></th>\n      <th></th>\n    </tr>\n  </thead>\n  <tbody>\n    <tr>\n      <th>10001725</th>\n      <th>25563031</th>\n      <th>37542711</th>\n      <td>NaN</td>\n      <td>58.0</td>\n      <td>NaN</td>\n      <td>100.0</td>\n      <td>NaN</td>\n    </tr>\n    <tr>\n      <th>10002155</th>\n      <th>23822395</th>\n      <th>34599502</th>\n      <td>NaN</td>\n      <td>54.0</td>\n      <td>NaN</td>\n      <td>94.0</td>\n      <td>NaN</td>\n    </tr>\n    <tr>\n      <th rowspan=\"2\" valign=\"top\">10002428</th>\n      <th>20321825</th>\n      <th>37206936</th>\n      <td>100.0</td>\n      <td>NaN</td>\n      <td>NaN</td>\n      <td>NaN</td>\n      <td>NaN</td>\n    </tr>\n    <tr>\n      <th>28662225</th>\n      <th>39157783</th>\n      <td>NaN</td>\n      <td>NaN</td>\n      <td>NaN</td>\n      <td>NaN</td>\n      <td>27.0</td>\n    </tr>\n    <tr>\n      <th>10003019</th>\n      <th>22774359</th>\n      <th>35012584</th>\n      <td>81.0</td>\n      <td>NaN</td>\n      <td>NaN</td>\n      <td>NaN</td>\n      <td>NaN</td>\n    </tr>\n    <tr>\n      <th>...</th>\n      <th>...</th>\n      <th>...</th>\n      <td>...</td>\n      <td>...</td>\n      <td>...</td>\n      <td>...</td>\n      <td>...</td>\n    </tr>\n    <tr>\n      <th>10360766</th>\n      <th>27554699</th>\n      <th>34464986</th>\n      <td>110.0</td>\n      <td>NaN</td>\n      <td>87.0</td>\n      <td>NaN</td>\n      <td>NaN</td>\n    </tr>\n    <tr>\n      <th>10361825</th>\n      <th>27526421</th>\n      <th>30953288</th>\n      <td>NaN</td>\n      <td>NaN</td>\n      <td>65.0</td>\n      <td>NaN</td>\n      <td>35.0</td>\n    </tr>\n    <tr>\n      <th>10361930</th>\n      <th>22828898</th>\n      <th>32607530</th>\n      <td>NaN</td>\n      <td>55.0</td>\n      <td>NaN</td>\n      <td>NaN</td>\n      <td>25.0</td>\n    </tr>\n    <tr>\n      <th>10362330</th>\n      <th>25416268</th>\n      <th>33355839</th>\n      <td>NaN</td>\n      <td>54.0</td>\n      <td>NaN</td>\n      <td>NaN</td>\n      <td>NaN</td>\n    </tr>\n    <tr>\n      <th>10362982</th>\n      <th>29984291</th>\n      <th>36155587</th>\n      <td>94.0</td>\n      <td>NaN</td>\n      <td>NaN</td>\n      <td>NaN</td>\n      <td>NaN</td>\n    </tr>\n  </tbody>\n</table>\n<p>617 rows × 5 columns</p>\n</div>"
     },
     "metadata": {},
     "execution_count": 46
    }
   ],
   "source": [
    "dynamic_regular_df.groupby(id_vars).median()"
   ]
  },
  {
   "cell_type": "code",
   "execution_count": 23,
   "metadata": {},
   "outputs": [
    {
     "output_type": "execute_result",
     "data": {
      "text/plain": [
       "pandas.core.frame.DataFrame"
      ]
     },
     "metadata": {},
     "execution_count": 23
    }
   ],
   "source": [
    "temp.fillna()"
   ]
  },
  {
   "cell_type": "code",
   "execution_count": 64,
   "metadata": {},
   "outputs": [
    {
     "output_type": "execute_result",
     "data": {
      "text/plain": [
       "label                         Heart Rate  Respiratory Rate  \\\n",
       "subject_id hadm_id  stay_id                                  \n",
       "10001725   25563031 37542711        82.0              19.0   \n",
       "                    37542711        82.0              19.0   \n",
       "                    37542711        82.0              19.0   \n",
       "                    37542711        82.0              19.0   \n",
       "                    37542711        82.0              19.0   \n",
       "...                                  ...               ...   \n",
       "10361930   22828898 32607530        82.0              25.0   \n",
       "                    32607530        82.0              25.0   \n",
       "                    32607530        82.0              25.0   \n",
       "10362330   25416268 33355839        82.0              19.0   \n",
       "10362982   29984291 36155587        94.0              19.0   \n",
       "\n",
       "label                         O2 saturation pulseoxymetry  \\\n",
       "subject_id hadm_id  stay_id                                 \n",
       "10001725   25563031 37542711                        100.0   \n",
       "                    37542711                        100.0   \n",
       "                    37542711                        100.0   \n",
       "                    37542711                        100.0   \n",
       "                    37542711                        100.0   \n",
       "...                                                   ...   \n",
       "10361930   22828898 32607530                         98.0   \n",
       "                    32607530                         98.0   \n",
       "                    32607530                         98.0   \n",
       "10362330   25416268 33355839                         98.0   \n",
       "10362982   29984291 36155587                         98.0   \n",
       "\n",
       "label                         Non Invasive Blood Pressure mean  \\\n",
       "subject_id hadm_id  stay_id                                      \n",
       "10001725   25563031 37542711                              74.0   \n",
       "                    37542711                              74.0   \n",
       "                    37542711                              74.0   \n",
       "                    37542711                              74.0   \n",
       "                    37542711                              74.0   \n",
       "...                                                        ...   \n",
       "10361930   22828898 32607530                              74.0   \n",
       "                    32607530                              74.0   \n",
       "                    32607530                              74.0   \n",
       "10362330   25416268 33355839                              74.0   \n",
       "10362982   29984291 36155587                              74.0   \n",
       "\n",
       "label                         Non Invasive Blood Pressure diastolic  \n",
       "subject_id hadm_id  stay_id                                          \n",
       "10001725   25563031 37542711                                   61.0  \n",
       "                    37542711                                   61.0  \n",
       "                    37542711                                   61.0  \n",
       "                    37542711                                   61.0  \n",
       "                    37542711                                   61.0  \n",
       "...                                                             ...  \n",
       "10361930   22828898 32607530                                   61.0  \n",
       "                    32607530                                   61.0  \n",
       "                    32607530                                   55.0  \n",
       "10362330   25416268 33355839                                   54.0  \n",
       "10362982   29984291 36155587                                   61.0  \n",
       "\n",
       "[9956 rows x 5 columns]"
      ],
      "text/html": "<div>\n<style scoped>\n    .dataframe tbody tr th:only-of-type {\n        vertical-align: middle;\n    }\n\n    .dataframe tbody tr th {\n        vertical-align: top;\n    }\n\n    .dataframe thead th {\n        text-align: right;\n    }\n</style>\n<table border=\"1\" class=\"dataframe\">\n  <thead>\n    <tr style=\"text-align: right;\">\n      <th></th>\n      <th></th>\n      <th>label</th>\n      <th>Heart Rate</th>\n      <th>Respiratory Rate</th>\n      <th>O2 saturation pulseoxymetry</th>\n      <th>Non Invasive Blood Pressure mean</th>\n      <th>Non Invasive Blood Pressure diastolic</th>\n    </tr>\n    <tr>\n      <th>subject_id</th>\n      <th>hadm_id</th>\n      <th>stay_id</th>\n      <th></th>\n      <th></th>\n      <th></th>\n      <th></th>\n      <th></th>\n    </tr>\n  </thead>\n  <tbody>\n    <tr>\n      <th rowspan=\"5\" valign=\"top\">10001725</th>\n      <th rowspan=\"5\" valign=\"top\">25563031</th>\n      <th>37542711</th>\n      <td>82.0</td>\n      <td>19.0</td>\n      <td>100.0</td>\n      <td>74.0</td>\n      <td>61.0</td>\n    </tr>\n    <tr>\n      <th>37542711</th>\n      <td>82.0</td>\n      <td>19.0</td>\n      <td>100.0</td>\n      <td>74.0</td>\n      <td>61.0</td>\n    </tr>\n    <tr>\n      <th>37542711</th>\n      <td>82.0</td>\n      <td>19.0</td>\n      <td>100.0</td>\n      <td>74.0</td>\n      <td>61.0</td>\n    </tr>\n    <tr>\n      <th>37542711</th>\n      <td>82.0</td>\n      <td>19.0</td>\n      <td>100.0</td>\n      <td>74.0</td>\n      <td>61.0</td>\n    </tr>\n    <tr>\n      <th>37542711</th>\n      <td>82.0</td>\n      <td>19.0</td>\n      <td>100.0</td>\n      <td>74.0</td>\n      <td>61.0</td>\n    </tr>\n    <tr>\n      <th>...</th>\n      <th>...</th>\n      <th>...</th>\n      <td>...</td>\n      <td>...</td>\n      <td>...</td>\n      <td>...</td>\n      <td>...</td>\n    </tr>\n    <tr>\n      <th rowspan=\"3\" valign=\"top\">10361930</th>\n      <th rowspan=\"3\" valign=\"top\">22828898</th>\n      <th>32607530</th>\n      <td>82.0</td>\n      <td>25.0</td>\n      <td>98.0</td>\n      <td>74.0</td>\n      <td>61.0</td>\n    </tr>\n    <tr>\n      <th>32607530</th>\n      <td>82.0</td>\n      <td>25.0</td>\n      <td>98.0</td>\n      <td>74.0</td>\n      <td>61.0</td>\n    </tr>\n    <tr>\n      <th>32607530</th>\n      <td>82.0</td>\n      <td>25.0</td>\n      <td>98.0</td>\n      <td>74.0</td>\n      <td>55.0</td>\n    </tr>\n    <tr>\n      <th>10362330</th>\n      <th>25416268</th>\n      <th>33355839</th>\n      <td>82.0</td>\n      <td>19.0</td>\n      <td>98.0</td>\n      <td>74.0</td>\n      <td>54.0</td>\n    </tr>\n    <tr>\n      <th>10362982</th>\n      <th>29984291</th>\n      <th>36155587</th>\n      <td>94.0</td>\n      <td>19.0</td>\n      <td>98.0</td>\n      <td>74.0</td>\n      <td>61.0</td>\n    </tr>\n  </tbody>\n</table>\n<p>9956 rows × 5 columns</p>\n</div>"
     },
     "metadata": {},
     "execution_count": 64
    }
   ],
   "source": [
    "dynamic_regular_imputed  = impute_dynamic_data(dynamic_regular, top_k_feats)\n",
    "dynamic_regular_imputed"
   ]
  },
  {
   "cell_type": "code",
   "execution_count": 63,
   "metadata": {},
   "outputs": [],
   "source": [
    "def impute_dynamic_data(dynamic_regular_df, feature_names):\n",
    "\n",
    "    # first, impute by forwards filling\n",
    "    dynamic_regular_df = dynamic_regular.copy()\n",
    "    dynamic_regular_df = dynamic_regular_df.set_index(id_vars)\n",
    "    dynamic_regular_df = dynamic_regular_df.groupby(id_vars).ffill() \n",
    "\n",
    "    #dynamic_regular_df[top_k_feats].fillna(dynamic_regular_df.groupby(id_vars).median()) personal level imputing, might information leak so dont use\n",
    "    dynamic_regular_imputed = dynamic_regular_df[feature_names].fillna(dynamic_regular_df.median()) \n",
    "\n",
    "    return dynamic_regular_imputed"
   ]
  }
 ],
 "metadata": {
  "kernelspec": {
   "name": "python3",
   "display_name": "Python 3.7.8 64-bit ('env')",
   "metadata": {
    "interpreter": {
     "hash": "2353d072c5cfafc374ad3ac9dac92f0f5cfafaca6cd96a1a8f57d97e82671bec"
    }
   }
  },
  "language_info": {
   "codemirror_mode": {
    "name": "ipython",
    "version": 3
   },
   "file_extension": ".py",
   "mimetype": "text/x-python",
   "name": "python",
   "nbconvert_exporter": "python",
   "pygments_lexer": "ipython3",
   "version": "3.7.8-final"
  }
 },
 "nbformat": 4,
 "nbformat_minor": 5
}